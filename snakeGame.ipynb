{
 "cells": [
  {
   "cell_type": "code",
   "execution_count": 7,
   "metadata": {},
   "outputs": [
    {
     "name": "stdout",
     "output_type": "stream",
     "text": [
      "(+) PyGame successfully initialised!\n"
     ]
    }
   ],
   "source": [
    "# Snake Game!\n",
    "# by root\n",
    "\n",
    "import pygame, sys, random, time\n",
    "\n",
    "#check for initialising errors\n",
    "check_errors = pygame.init()\n",
    "if check_errors[1] > 0:\n",
    "    print(\"(!) Had {0} initialising errors, exiting...\".format(check_errors[1]))\n",
    "    sys.exit(-1)\n",
    "else:\n",
    "    print(\"(+) PyGame successfully initialised!\")"
   ]
  },
  {
   "cell_type": "code",
   "execution_count": 8,
   "metadata": {},
   "outputs": [],
   "source": [
    "# Play Surface\n",
    "playSurface = pygame.display.set_mode((720,460))\n",
    "pygame.display.set_caption('Snake Game!')"
   ]
  },
  {
   "cell_type": "code",
   "execution_count": 9,
   "metadata": {},
   "outputs": [],
   "source": [
    "# Colours\n",
    "\n",
    "red = pygame.Color(255,0,0) #gameover\n",
    "green = pygame.Color(0,255,0) #snake\n",
    "blue = pygame.Color(0,0,255) #food\n",
    "black = pygame.Color(0,0,0) #score\n",
    "white = pygame.Color(255,255,255) #background"
   ]
  },
  {
   "cell_type": "code",
   "execution_count": 10,
   "metadata": {},
   "outputs": [],
   "source": [
    "# FPS Controller\n",
    "fpsController = pygame.time.Clock()\n",
    "\n",
    "#Important Variables\n",
    "snakePos = [100,50]\n",
    "snakeBody = [[100,50],[90,50],[80,50]]\n",
    "\n",
    "score = 0\n",
    "\n",
    "foodPos = [random.randrange(1, 72)*10,random.randrange(1,46)*10]\n",
    "foodSpawn = True\n",
    "\n",
    "direction = 'RIGHT'\n",
    "changeto = direction"
   ]
  },
  {
   "cell_type": "code",
   "execution_count": 11,
   "metadata": {},
   "outputs": [],
   "source": [
    "#Game Over Function\n",
    "\n",
    "def gameOver():\n",
    "    myFont = pygame.font.SysFont('monaco', 72)\n",
    "    GOsurface = myFont.render('Game Over!', True, red) # True for anti-aliasing\n",
    "    GOrectangle = GOsurface.get_rect()\n",
    "    GOrectangle.midtop = (360, 20)\n",
    "    playSurface.blit(GOsurface,GOrectangle)\n",
    "    showScore(0)\n",
    "    pygame.display.flip()\n",
    "    time.sleep(5)\n",
    "    pygame.quit() # pygame exit\n",
    "    sys.exit() # console exit\n",
    "    \n",
    "def showScore(choice=1):\n",
    "    sFont = pygame.font.SysFont('monaco', 36)\n",
    "    Ssurface = sFont.render('Score: {0}'.format(score), True, black)\n",
    "    Srectangle = Ssurface.get_rect()\n",
    "    if choice == 1:\n",
    "        Srectangle.midtop = (80, 10)\n",
    "    else:\n",
    "        Srectangle.midtop = (360, 120)\n",
    "    playSurface.blit(Ssurface,Srectangle)\n"
   ]
  },
  {
   "cell_type": "code",
   "execution_count": 12,
   "metadata": {},
   "outputs": [
    {
     "ename": "SystemExit",
     "evalue": "",
     "output_type": "error",
     "traceback": [
      "An exception has occurred, use %tb to see the full traceback.\n",
      "\u001b[1;31mSystemExit\u001b[0m\n"
     ]
    },
    {
     "name": "stderr",
     "output_type": "stream",
     "text": [
      "C:\\Users\\thoma\\Anaconda3\\lib\\site-packages\\IPython\\core\\interactiveshell.py:2918: UserWarning: To exit: use 'exit', 'quit', or Ctrl-D.\n",
      "  warn(\"To exit: use 'exit', 'quit', or Ctrl-D.\", stacklevel=1)\n"
     ]
    }
   ],
   "source": [
    "# Main Logic of the Game\n",
    "\n",
    "while True:\n",
    "    for event in pygame.event.get():\n",
    "        if event.type == pygame.QUIT:\n",
    "            pygame.quit()\n",
    "            sys.exit()\n",
    "        elif event.type == pygame.KEYDOWN:\n",
    "            if event.key == pygame.K_RIGHT or event.key == ord('d') or event.key == ord('D'):\n",
    "                changeto = 'RIGHT'\n",
    "            if event.key == pygame.K_LEFT or event.key == ord('a') or event.key == ord('A'):\n",
    "                changeto = 'LEFT'\n",
    "            if event.key == pygame.K_UP or event.key == ord('w') or event.key == ord('W'):\n",
    "                changeto = 'UP'\n",
    "            if event.key == pygame.K_DOWN or event.key == ord('s') or event.key == ord('S'):\n",
    "                changeto = 'DOWN'\n",
    "            if event.key == pygame.K_ESCAPE:\n",
    "                pygame.event.post(pygame.event.Event(pygame.QUIT))\n",
    "                \n",
    "    # Validation of direction\n",
    "    if  changeto == 'RIGHT' and not direction == 'LEFT':\n",
    "        direction = 'RIGHT'\n",
    "    if  changeto == 'LEFT' and not direction == 'RIGHT':\n",
    "        direction = 'LEFT'\n",
    "    if  changeto == 'UP' and not direction == 'DOWN':\n",
    "        direction = 'UP'\n",
    "    if  changeto == 'DOWN' and not direction == 'UP':\n",
    "        direction = 'DOWN'\n",
    "        \n",
    "    # Update Snake Position [x,y]\n",
    "    if direction == 'RIGHT':\n",
    "        snakePos[0] += 10\n",
    "    if direction == 'LEFT':\n",
    "        snakePos[0] -= 10\n",
    "    if direction == 'UP':\n",
    "        snakePos[1] -= 10\n",
    "    if direction == 'DOWN':\n",
    "        snakePos[1] += 10\n",
    "\n",
    "    # Snake Body Mechanism\n",
    "    snakeBody.insert(0,list(snakePos))\n",
    "    if snakePos == foodPos:\n",
    "        score += 1\n",
    "        foodSpawn = False\n",
    "    else:\n",
    "        snakeBody.pop()\n",
    "        \n",
    "    # Food Spawn\n",
    "    if foodSpawn == False:\n",
    "        foodPos = [random.randrange(1, 72)*10,random.randrange(1,46)*10]\n",
    "    foodSpawn = True\n",
    "    \n",
    "    # Background\n",
    "    playSurface.fill(white)\n",
    "    \n",
    "    #Draw Snake\n",
    "    for pos in snakeBody:\n",
    "        pygame.draw.rect(playSurface, green, pygame.Rect(pos[0],pos[1],10,10))\n",
    "    \n",
    "    #Draw Food\n",
    "    pygame.draw.rect(playSurface, blue, pygame.Rect(foodPos[0],foodPos[1],10,10))\n",
    "    \n",
    "    if snakePos[0] > 710 or snakePos[0] < 0:\n",
    "        gameOver()\n",
    "    if snakePos[1] > 450 or snakePos[1] < 0:\n",
    "        gameOver()\n",
    "        \n",
    "    for block in snakeBody[1:]:\n",
    "        if snakePos == block:\n",
    "            gameOver()\n",
    "        \n",
    "\n",
    "    showScore()\n",
    "    pygame.display.update()\n",
    "    fpsController.tick(24)\n",
    "    \n",
    "# Add a menu\n",
    "# Add background image\n",
    "# Change system icon\n",
    "# Create an executable"
   ]
  },
  {
   "cell_type": "code",
   "execution_count": null,
   "metadata": {},
   "outputs": [],
   "source": []
  },
  {
   "cell_type": "code",
   "execution_count": null,
   "metadata": {},
   "outputs": [],
   "source": []
  },
  {
   "cell_type": "code",
   "execution_count": null,
   "metadata": {},
   "outputs": [],
   "source": []
  },
  {
   "cell_type": "code",
   "execution_count": null,
   "metadata": {},
   "outputs": [],
   "source": []
  },
  {
   "cell_type": "code",
   "execution_count": null,
   "metadata": {},
   "outputs": [],
   "source": []
  }
 ],
 "metadata": {
  "kernelspec": {
   "display_name": "Python 3",
   "language": "python",
   "name": "python3"
  }
 },
 "nbformat": 4,
 "nbformat_minor": 2
}
